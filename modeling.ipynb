{
 "cells": [
  {
   "cell_type": "markdown",
   "id": "2ec0548c",
   "metadata": {},
   "source": [
    "# Thermal simulation of a room using `dm4bem`\n",
    "This notebook explains in detail a thermal model simulated in Python using the `dm4bem` library.\n",
    "## 1. Importing libraries\n",
    "We start by importing the necessary libraries:"
   ]
  },
  {
   "cell_type": "code",
   "execution_count": null,
   "id": "07cf8e55",
   "metadata": {},
   "outputs": [],
   "source": [
    "import numpy as np\n",
    "import pandas as pd\n",
    "import matplotlib.pyplot as plt\n",
    "import csv\n",
    "import dm4bem"
   ]
  },
  {
   "cell_type": "markdown",
   "id": "73f71134",
   "metadata": {},
   "source": [
    "## 2. Define the geometric dimensions of the room\n",
    "Define the dimensions of the room (length, width, height), the surfaces of the walls, floor and ceiling, and the interior volume."
   ]
  },
  {
   "cell_type": "code",
   "execution_count": null,
   "id": "ec72ac78",
   "metadata": {},
   "outputs": [],
   "source": [
    "L, L2, H = 2.5, 2, 3\n",
    "S_wall1 = L * H\n",
    "S_wall2 = L2 * H\n",
    "S_wall = S_wall1 + S_wall2\n",
    "S_floor = S_roof = L**2\n",
    "V_air = L**2 * H"
   ]
  },
  {
   "cell_type": "markdown",
   "id": "87268831",
   "metadata": {},
   "source": [
    "## 3. Solar absorption data\n",
    "Solar irradiance and absorption coefficients for different surfaces."
   ]
  },
  {
   "cell_type": "code",
   "execution_count": null,
   "id": "190f46c3",
   "metadata": {},
   "outputs": [],
   "source": [
    "E = 300  # Irradiation solaire (W/m²)\n",
    "alphawout = 0.25\n",
    "alphawindow = 0.38\n",
    "alpharoof = alphafloor = 0.2"
   ]
  },
  {
   "cell_type": "markdown",
   "id": "c3682da3",
   "metadata": {},
   "source": [
    "## 4. Fixed temperatures\n",
    "Indoor and outdoor reference temperatures for calculations ## 3. Solar absorption data\n",
    "Solar irradiance and absorption coefficients for different surfaces."
   ]
  },
  {
   "cell_type": "code",
   "execution_count": null,
   "id": "9523d012",
   "metadata": {},
   "outputs": [],
   "source": [
    "To, Ti = 10, 22"
   ]
  },
  {
   "cell_type": "markdown",
   "id": "e124335a",
   "metadata": {},
   "source": [
    "## 5. Defining material properties\n",
    "Each material is characterized by its thermal conductivity, density, specific heat, thickness and associated surface area."
   ]
  },
  {
   "cell_type": "code",
   "execution_count": null,
   "id": "266d18ab",
   "metadata": {},
   "outputs": [],
   "source": [
    "air = {'Density': 1.2, 'Specific heat': 1000}\n",
    "concrete = {'Conductivity': 1.4, 'Density': 2300, 'Specific heat': 880, 'Width': 0.24, 'Surface': 3 * S_wall}\n",
    "insulation = {'Conductivity': 0.027, 'Density': 55.0, 'Specific heat': 1210, 'Width': 0.06, 'Surface': 3 * S_wall}\n",
    "glass = {'Conductivity': 1.4, 'Density': 2500, 'Specific heat': 1210, 'Width': 0.04, 'Surface': S_wall}\n",
    "floor = {'Conductivity': 0.15, 'Density': 700, 'Specific heat': 1500, 'Width': 0.02, 'Surface': S_floor}\n",
    "roof = {'Conductivity': 0.25, 'Density': 850, 'Specific heat': 1090, 'Width': 0.013, 'Surface': S_roof}\n",
    "\n",
    "wall = pd.DataFrame.from_dict({'Concrete': concrete, 'Insulation': insulation, 'Glass': glass, 'Floor': floor, 'Roof': roof}, orient='index')"
   ]
  },
  {
   "cell_type": "markdown",
   "id": "848d5156",
   "metadata": {},
   "source": [
    "## 6. Radiative coefficients & calculation of LW exchange\n",
    "Calculations of conductances related to thermal radiation inside the room."
   ]
  },
  {
   "cell_type": "code",
   "execution_count": null,
   "id": "592d8f91",
   "metadata": {},
   "outputs": [],
   "source": [
    "ε_wLW, ε_gLW = 0.85, 0.90\n",
    "σ = 5.67e-8\n",
    "Tm = 273 + 10\n",
    "Fwg = glass['Surface'] / concrete['Surface']\n",
    "GLW1 = 4 * σ * Tm**3 * ε_wLW / (1 - ε_wLW) * concrete['Surface']\n",
    "GLW12 = 4 * σ * Tm**3 * Fwg * concrete['Surface']\n",
    "GLW2 = 4 * σ * Tm**3 * ε_gLW / (1 - ε_gLW) * glass['Surface']\n",
    "GLW = 1 / (1 / GLW1 + 1 / GLW12 + 1 / GLW2)"
   ]
  },
  {
   "cell_type": "markdown",
   "id": "8875bbbf",
   "metadata": {},
   "source": [
    "## 7. Ventilation exchange\n",
    "Air exchange is modeled with an ACH hourly exchange rate."
   ]
  },
  {
   "cell_type": "code",
   "execution_count": null,
   "id": "299528e6",
   "metadata": {},
   "outputs": [],
   "source": [
    "ACH = 1\n",
    "Va_dot = ACH / 3600 * V_air\n",
    "Gv = air['Density'] * air['Specific heat'] * Va_dot"
   ]
  },
  {
   "cell_type": "markdown",
   "id": "6cb1c9e2",
   "metadata": {},
   "source": [
    "## 8. Total heat capacity\n",
    "Calculation of heat capacity (stored heat) in materials and air."
   ]
  },
  {
   "cell_type": "code",
   "execution_count": null,
   "id": "ff074ddd",
   "metadata": {},
   "outputs": [],
   "source": [
    "C = wall['Density'] * wall['Specific heat'] * wall['Surface'] * wall['Width']\n",
    "C['Air'] = air['Density'] * air['Specific heat'] * V_air"
   ]
  },
  {
   "cell_type": "markdown",
   "id": "b9f7498e",
   "metadata": {},
   "source": [
    "# Building the thermal model\n",
    "In this section, we continue building the thermal model with :\n",
    "- Definition of the incidence matrix A\n",
    "- Calculation of conductances G\n",
    "- Definition of nodal heat capacities C\n",
    "- Temperature (b) and flux (f) sources\n",
    "- Thermal model output## 8. Total heat capacity\n",
    "Calculation of heat capacity (stored heat) in materials and air."
   ]
  },
  {
   "cell_type": "code",
   "execution_count": null,
   "id": "fda47ffd",
   "metadata": {},
   "outputs": [],
   "source": [
    "# Définition des noms de nœuds de température et flux\n",
    "θ = [f'θ{i}' for i in range(19)]\n",
    "q = [f'q{i}' for i in range(29)]"
   ]
  },
  {
   "cell_type": "markdown",
   "id": "cddb9c94",
   "metadata": {},
   "source": [
    "\n",
    "## Creating the A incidence matrix\n",
    "The A matrix represents the thermal topology of the system, linking temperature nodes via thermal conductance elements. It is filled in manually here for each thermal link present in the building."
   ]
  },
  {
   "cell_type": "code",
   "execution_count": null,
   "id": "5b002ce2",
   "metadata": {},
   "outputs": [],
   "source": [
    "A = np.zeros([29, 19])\n",
    "# Remplissage manuel de la matrice A\n",
    "A[0, 0] = 1\n",
    "A[1, 0] = -1; A[1, 1] = 1\n",
    "A[2, 1] = -1; A[2, 2] = 1\n",
    "A[3, 3] = 1\n",
    "A[4, 3] = -1; A[4, 4] = 1\n",
    "A[5, 4] = -1; A[5, 5] = 1\n",
    "A[6, 5] = -1; A[6, 6] = 1\n",
    "A[7, 6] = -1; A[7, 2] = 1\n",
    "A[8, 7] = 1\n",
    "A[9, 7] = -1; A[9, 8] = 1\n",
    "A[10, 8] = -1; A[10, 9] = 1\n",
    "A[11, 9] = -1; A[11, 2] = 1\n",
    "A[12, 9] = -1; A[12, 6] = 1\n",
    "A[13, 9] = -1; A[13, 1] = 1\n",
    "A[14, 10] = 1\n",
    "A[15, 10] = -1; A[15, 11] = 1\n",
    "A[16, 11] = -1; A[16, 12] = 1\n",
    "A[17, 12] = -1; A[17, 2] = 1\n",
    "A[18, 12] = -1; A[18, 6] = 1\n",
    "A[19, 12] = -1; A[19, 1] = 1\n",
    "A[20, 2] = 1\n",
    "A[21, 13] = 1\n",
    "A[22, 13] = -1; A[22, 14] = 1\n",
    "A[23, 14] = -1; A[23, 15] = 1\n",
    "A[24, 15] = -1; A[24, 2] = 1\n",
    "A[25, 16] = 1\n",
    "A[26, 16] = -1; A[26, 17] = 1\n",
    "A[27, 17] = -1; A[27, 18] = 1\n",
    "A[28, 18] = -1; A[28, 2] = 1"
   ]
  },
  {
   "cell_type": "markdown",
   "id": "e295f899",
   "metadata": {},
   "source": [
    "## Calculation of thermal conductances G\n",
    "Each heat flow (line in A) is associated with a conductance G, which depends on the nature of the material and the surface crossed.\n",
    "We assemble all the Gs into a vector, which is then converted into a diagonal matrix for matrix calculation."
   ]
  },
  {
   "cell_type": "code",
   "execution_count": null,
   "id": "5f0c33c9",
   "metadata": {},
   "outputs": [],
   "source": [
    "# Variables nécessaires définies précédemment (λ, w, surfaces...)\n",
    "# Calcul manuel des conductances comme dans le script initial\n",
    "# Voir code précédent pour la formulation complète...\n",
    "G = np.hstack([\n",
    "    hi * S_wind,\n",
    "    (λ_g / (2 * w_g)) * S_wind,\n",
    "    ho * S_wind,\n",
    "    hi * S1, (λ_c / (2 * w_c)) * S1, (λ_i / w_i) * S1, (λ_c / (2 * w_c)) * S1, ho * S1,\n",
    "    hi * S2, (λ_c / (2 * w_c)) * S2, (λ_i / w_i) * S2, ho * S2,\n",
    "    GLW, GLW, GLW, GLW,\n",
    "    hi * S3, (λ_c / (2 * w_c)) * S3, (λ_i / w_i) * S3, ho * S3,\n",
    "    (2 * hi + λ_door / w_door) * S_door,\n",
    "    hi * S_floor, (λ_f / (2 * w_f)) * S_floor, (λ_f / (2 * w_f)) * S_floor, ho * S_floor,\n",
    "    hi * S_roof, (λ_r / (2 * w_r)) * S_roof, (λ_r / (2 * w_r)) * S_roof, ho * S_roof\n",
    "])"
   ]
  },
  {
   "cell_type": "markdown",
   "id": "b109c4db",
   "metadata": {},
   "source": [
    "# Thermal modeling of a part using `dm4bem`.\n",
    "## Definition of nodal thermal capacities\n",
    "\n",
    "Here we define the thermal capacities associated with each node. You can choose whether or not to include air and glass in the calculations.\n",
    "\n",
    "This influences system dynamics (thermal accumulation)."
   ]
  },
  {
   "cell_type": "code",
   "execution_count": null,
   "id": "faec1f23",
   "metadata": {},
   "outputs": [],
   "source": [
    "\n",
    "# Capacité thermique par nœud \n",
    "neglect_air_glass = True\n",
    "\n",
    "if neglect_air_glass:\n",
    "    C = np.array([0, concrete['Density'] * concrete['Specific heat'] * concrete['Surface'] * concrete['Width'], 0,\n",
    "                  insulation['Density'] * insulation['Specific heat'] * insulation['Surface'] * insulation['Width'],\n",
    "                  0, 0, 0, 0 ,0, 0, 0, 0, 0, 0, 0, 0, 0, 0, 0])\n",
    "else:\n",
    "    C = np.array([0, concrete['Density'] * concrete['Specific heat'] * concrete['Surface'] * concrete['Width'], 0,\n",
    "                  insulation['Density'] * insulation['Specific heat'] * insulation['Surface'] * insulation['Width'],\n",
    "                  0, 0, glass['Density'] * glass['Specific heat'] * glass['Surface'] * glass['Width'], 0, 0, 0,\n",
    "                  0, 0, air['Density'] * air['Specific heat'] * V_air, 0, 0, 0, 0, 0, 0])\n",
    "pd.DataFrame(C, index=θ)\n"
   ]
  },
  {
   "cell_type": "markdown",
   "id": "c597a303",
   "metadata": {},
   "source": [
    "\n",
    "## Definition of temperature and flow sources\n",
    "\n",
    "- b` is the vector of temperature sources (e.g. imposed outdoor and indoor temperatures).\n",
    "- f` is the vector of heat flux sources (e.g. solar or internal heat gain)."
   ]
  },
  {
   "cell_type": "code",
   "execution_count": null,
   "id": "75d87914",
   "metadata": {},
   "outputs": [],
   "source": [
    "\n",
    "b = pd.Series(['To', 0, 0, 'To', 0, 0, 0, 0, 'Ti', 0, 0, 0, 0, 0, 'Ti', 0, 0, 0, 0, 0, 'Ti', 'Ti',0,0,0,'Ti',0,0,0],\n",
    "              index=q)\n",
    "\n",
    "f = pd.Series(['Φ1', 0, 0, 'Φ2', 0, 0, 0, 0, 0, 0, 0, 0, 0, 'Φ3', 0, 0, 'Φ4', 0, 0],\n",
    "              index=θ)\n"
   ]
  },
  {
   "cell_type": "markdown",
   "id": "9a24d433",
   "metadata": {},
   "source": [
    "\n",
    "## Selecting the temperature node of interest\n",
    "\n",
    "Here we're interested in the indoor air temperature (node `θ2`)."
   ]
  },
  {
   "cell_type": "code",
   "execution_count": null,
   "id": "87b54290",
   "metadata": {},
   "outputs": [],
   "source": [
    "\n",
    "y = np.zeros(19)           \n",
    "y[[2]] = 1               \n",
    "pd.DataFrame(y, index=θ)\n"
   ]
  },
  {
   "cell_type": "markdown",
   "id": "56a195a4",
   "metadata": {},
   "source": [
    "\n",
    "\n",
    "## Creating the complete thermal model\n",
    "\n",
    "Gather all elements in a dictionary to prepare for steady-state simulation or analysis."
   ]
  },
  {
   "cell_type": "code",
   "execution_count": null,
   "id": "4ed0d4c3",
   "metadata": {},
   "outputs": [],
   "source": [
    "\n",
    "A = pd.DataFrame(A, index=q, columns=θ)\n",
    "G = pd.Series(G, index=q)\n",
    "C = pd.Series(C, index=θ)\n",
    "b = pd.Series(b, index=q)\n",
    "f = pd.Series(f, index=θ)\n",
    "y = pd.Series(y, index=θ)\n",
    "\n",
    "TC = {\"A\": A, \"G\": G, \"C\": C, \"b\": b, \"f\": f, \"y\": y}\n"
   ]
  },
  {
   "cell_type": "markdown",
   "id": "e0c3f541",
   "metadata": {},
   "source": [
    "\n",
    "## Steady-state simulation\n",
    "\n",
    "The steady-state thermal system is solved by inverting the linear system `θss`."
   ]
  },
  {
   "cell_type": "code",
   "execution_count": null,
   "id": "f5dba432",
   "metadata": {},
   "outputs": [],
   "source": [
    "\n",
    "A_np = A.values\n",
    "G_mat = np.diag(G.values)\n",
    "bss = np.zeros(29)\n",
    "bss[[0, 3]] = 10\n",
    "bss[[8, 14, 20, 21, 25]] = 22\n",
    "\n",
    "fss = np.zeros(19)\n",
    "diag_G = pd.DataFrame(np.diag(G), index=G.index, columns=G.index)\n",
    "θss = np.linalg.inv(A.T @ diag_G @ A) @ (A.T @ diag_G @ bss + fss)\n",
    "\n",
    "print(f'θss = {np.around(θss, 2)} °C')\n"
   ]
  },
  {
   "cell_type": "markdown",
   "id": "aeeec9bf",
   "metadata": {},
   "source": [
    "\n",
    "## System state representation\n",
    "\n",
    "The thermal model is transformed into a system of state equations using the `tc2ss` function from `dm4bem`. This makes it easy to simulate dynamic behavior."
   ]
  },
  {
   "cell_type": "code",
   "execution_count": null,
   "id": "3aebd707",
   "metadata": {},
   "outputs": [],
   "source": [
    "\n",
    "[As, Bs, Cs, Ds, us] = dm4bem.tc2ss(TC)\n",
    "\n",
    "bT = np.array([10, 10, 22, 22, 22, 22, 22])  # [To, To, Ti, Ti, Ti, Ti, Ti]\n",
    "fQ = np.array([0, 0, 0, 0])                  # [Φ1, Φ2, Φ3, Φ4]\n",
    "uss = np.hstack([bT, fQ]) \n",
    "\n",
    "inv_As = pd.DataFrame(np.linalg.inv(As),\n",
    "                      columns=As.index, index=As.index)\n",
    "\n",
    "yss = (-Cs @ inv_As @ Bs + Ds) @ uss\n",
    "yss = float(yss.values[0])\n",
    "\n",
    "print(f'yss_θ3 = {yss:.2f} °C')\n",
    "print(f'Error between DAE and state-space: {abs(θss[2] - yss):.2e} °C')\n"
   ]
  }
 ],
 "metadata": {
  "language_info": {
   "name": "python"
  }
 },
 "nbformat": 4,
 "nbformat_minor": 5
}
