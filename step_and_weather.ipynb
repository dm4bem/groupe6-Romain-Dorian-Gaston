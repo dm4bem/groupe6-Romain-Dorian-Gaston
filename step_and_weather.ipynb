{
 "cells": [
  {
   "cell_type": "markdown",
   "id": "8a73b537",
   "metadata": {},
   "source": [
    "\n",
    "### 1. Import necessary libraries\n",
    "\n",
    "In this first step, we import the required Python libraries for numerical computations, data manipulation, plotting, and building thermal modeling using the `dm4bem` library.\n"
   ]
  },
  {
   "cell_type": "code",
   "execution_count": null,
   "id": "7b3bbb9d",
   "metadata": {},
   "outputs": [],
   "source": [
    "\n",
    "import numpy as np\n",
    "import pandas as pd\n",
    "import matplotlib.pyplot as plt\n",
    "import csv\n",
    "import dm4bem\n"
   ]
  },
  {
   "cell_type": "markdown",
   "id": "1ab021c8",
   "metadata": {},
   "source": [
    "\n",
    "### 2. Load the thermal circuit model and convert to state-space representation\n",
    "\n",
    "We load a thermal circuit from a CSV file and convert it into a state-space representation (A, B, C, D matrices), which is more suitable for numerical simulations.\n"
   ]
  },
  {
   "cell_type": "code",
   "execution_count": null,
   "id": "fb70b60f",
   "metadata": {},
   "outputs": [],
   "source": [
    "\n",
    "TC = dm4bem.file2TC('./model/TC.csv', name='', auto_number=False)\n",
    "[As, Bs, Cs, Ds, us] = dm4bem.tc2ss(TC)\n"
   ]
  },
  {
   "cell_type": "markdown",
   "id": "ba260a6e",
   "metadata": {},
   "source": [
    "\n",
    "### 3. Define simulation parameters\n",
    "\n",
    "We specify the simulation parameters such as whether a controller is used, whether the time step is imposed, and the value of the time step. These will guide the numerical integration.\n"
   ]
  },
  {
   "cell_type": "code",
   "execution_count": null,
   "id": "39c69172",
   "metadata": {},
   "outputs": [],
   "source": [
    "\n",
    "controller = False\n",
    "neglect_air_glass_capacity = True\n",
    "imposed_time_step = True\n",
    "Δt = 4000  # s\n"
   ]
  },
  {
   "cell_type": "markdown",
   "id": "752f9a4d",
   "metadata": {},
   "source": [
    "\n",
    "### 4. Compute system eigenvalues and determine numerical time step\n",
    "\n",
    "We compute the eigenvalues of the state matrix to determine the maximum stable time step for an explicit Euler integration method, and also compute the total duration required for the system to reach steady state.\n"
   ]
  },
  {
   "cell_type": "code",
   "execution_count": null,
   "id": "6402ec6c",
   "metadata": {},
   "outputs": [],
   "source": [
    "\n",
    "λ = np.linalg.eig(As)[0]\n",
    "Δtmax = 2 * min(-1 / λ)\n",
    "dm4bem.print_rounded_time('Δtmax', Δtmax)\n",
    "\n",
    "dt = Δt if imposed_time_step else dm4bem.round_time(Δtmax)\n",
    "dm4bem.print_rounded_time('dt', dt)\n",
    "\n",
    "t_settle = 4 * max(-1 / λ)\n",
    "duration = np.ceil(t_settle / 3600) * 3600\n",
    "dm4bem.print_rounded_time('duration', duration)\n"
   ]
  },
  {
   "cell_type": "markdown",
   "id": "1ca99f2c",
   "metadata": {},
   "source": [
    "\n",
    "### 5. Generate synthetic constant input data\n",
    "\n",
    "We create a simple scenario with constant indoor and outdoor temperatures and no solar or internal gains. This allows us to test the model's response under controlled conditions.\n"
   ]
  },
  {
   "cell_type": "code",
   "execution_count": null,
   "id": "fb871555",
   "metadata": {},
   "outputs": [],
   "source": [
    "\n",
    "n = int(np.floor(duration / dt))\n",
    "time = pd.date_range(start=\"2000-01-01 00:00:00\", periods=n, freq=f\"{int(dt)}s\")\n",
    "\n",
    "To = 10 * np.ones(n)\n",
    "Ti = 22 * np.ones(n)\n",
    "Φ0 = Φ1 = Φ2 = Φ3 = 0 * np.ones(n)\n",
    "\n",
    "input_data_set = pd.DataFrame({\n",
    "    'To': To, 'Ti': Ti,\n",
    "    'Φ0': Φ0, 'Φ1': Φ1, 'Φ2': Φ2, 'Φ3': Φ3\n",
    "}, index=time)\n"
   ]
  },
  {
   "cell_type": "markdown",
   "id": "14c30064",
   "metadata": {},
   "source": [
    "\n",
    "### 6. Prepare simulation inputs and initial temperatures\n",
    "\n",
    "We format the inputs to match the expected format of the model, and initialize the indoor temperature using a fixed value.\n"
   ]
  },
  {
   "cell_type": "code",
   "execution_count": null,
   "id": "67467789",
   "metadata": {},
   "outputs": [],
   "source": [
    "\n",
    "u = dm4bem.inputs_in_time(us, input_data_set)\n",
    "\n",
    "θ_exp = pd.DataFrame(index=u.index)\n",
    "θ_imp = pd.DataFrame(index=u.index)\n",
    "θ0 = 14\n",
    "\n",
    "θ_exp[As.columns] = θ0\n",
    "θ_imp[As.columns] = θ0\n"
   ]
  },
  {
   "cell_type": "markdown",
   "id": "cb1f5f61",
   "metadata": {},
   "source": [
    "\n",
    "### 7. Perform numerical integration (explicit and implicit Euler methods)\n",
    "\n",
    "We simulate the temperature evolution inside the building using both explicit and implicit Euler methods to compare their performance.\n"
   ]
  },
  {
   "cell_type": "code",
   "execution_count": null,
   "id": "e2710986",
   "metadata": {},
   "outputs": [],
   "source": [
    "\n",
    "I = np.eye(As.shape[0])\n",
    "for k in range(u.shape[0] - 1):\n",
    "    θ_exp.iloc[k + 1] = (I + dt * As) @ θ_exp.iloc[k] + dt * Bs @ u.iloc[k]\n",
    "    θ_imp.iloc[k + 1] = np.linalg.inv(I - dt * As) @ (θ_imp.iloc[k] + dt * Bs @ u.iloc[k])\n"
   ]
  },
  {
   "cell_type": "markdown",
   "id": "ac973dd6",
   "metadata": {},
   "source": [
    "\n",
    "### 8. Visualize simulation results\n",
    "\n",
    "We plot the indoor temperature evolution over time for both numerical methods to observe how the model behaves.\n"
   ]
  },
  {
   "cell_type": "code",
   "execution_count": null,
   "id": "39d50dc4",
   "metadata": {},
   "outputs": [],
   "source": [
    "\n",
    "y_exp = (Cs @ θ_exp.T + Ds @ u.T).T\n",
    "y_imp = (Cs @ θ_imp.T + Ds @ u.T).T\n",
    "\n",
    "y = pd.concat([y_exp, y_imp], axis=1, keys=['Explicit', 'Implicit'])\n",
    "y.columns = y.columns.get_level_values(0)\n",
    "\n",
    "ax = y.plot()\n",
    "ax.set_xlabel('Time')\n",
    "ax.set_ylabel('Indoor temperature, $\\theta_i$ / °C')\n",
    "ax.set_title(f'Time integration\\nTime step: $dt$ = {dt:.0f} s; $dt_{{max}}$ = {Δtmax:.0f} s')\n",
    "plt.show()\n"
   ]
  },
  {
   "cell_type": "markdown",
   "id": "23363edc",
   "metadata": {},
   "source": [
    "\n",
    "## Import and Format Weather Data\n",
    "\n",
    "We import real weather data from an EPW file, localize its datetime to the simulation year, and extract temperature and solar radiation. This provides realistic boundary conditions for the building model.\n"
   ]
  },
  {
   "cell_type": "code",
   "execution_count": null,
   "id": "329bdb3c",
   "metadata": {},
   "outputs": [],
   "source": [
    "\n",
    "filename = './weather_data/FRA_Lyon.074810_IWEC.epw'\n",
    "[data, meta] = dm4bem.read_epw(filename, coerce_year=None)\n",
    "weather = data[[\"temp_air\", \"dir_n_rad\", \"dif_h_rad\"]]\n",
    "del data\n",
    "weather.index = weather.index.map(lambda t: t.replace(year=2025))\n",
    "weather = weather.loc[start_date:end_date]\n",
    "\n",
    "To = weather['temp_air']\n"
   ]
  },
  {
   "cell_type": "markdown",
   "id": "132026ef",
   "metadata": {},
   "source": [
    "\n",
    "## Define Building Geometry and Materials\n",
    "\n",
    "We define the geometry of the room and the physical properties of materials used in the construction. These are essential for determining heat transfer characteristics.\n"
   ]
  },
  {
   "cell_type": "code",
   "execution_count": null,
   "id": "f09eb82d",
   "metadata": {},
   "outputs": [],
   "source": [
    "\n",
    "L, L2, H = 2.5, 2, 3\n",
    "S_wall1 = L * H\n",
    "S_wall2 = L2 * H\n",
    "S_wall = S_wall1 + S_wall2\n",
    "S_floor = S_roof = L**2\n",
    "V_air = L**2 * H\n",
    "\n",
    "E = 300\n",
    "alphawout = 0.25\n",
    "alphawindow = 0.38\n",
    "alpharoof = alphafloor = 0.2\n",
    "\n",
    "air = {'Density': 1.2, 'Specific heat': 1000}\n",
    "concrete = {'Conductivity': 1.4, 'Density': 2300, 'Specific heat': 880, 'Width': 0.24, 'Surface': 3 * S_wall}\n",
    "insulation = {'Conductivity': 0.027, 'Density': 55.0, 'Specific heat': 1210, 'Width': 0.06, 'Surface': 3 * S_wall}\n",
    "glass = {'Conductivity': 1.4, 'Density': 2500, 'Specific heat': 1210, 'Width': 0.04, 'Surface': S_wall}\n",
    "floor = {'Conductivity': 0.15, 'Density': 700, 'Specific heat': 1500, 'Width': 0.02, 'Surface': S_floor}\n",
    "roof = {'Conductivity': 0.25, 'Density': 850, 'Specific heat': 1090, 'Width': 0.013, 'Surface': S_roof}\n",
    "\n",
    "wall = pd.DataFrame.from_dict({'Concrete': concrete, 'Insulation': insulation, 'Glass': glass, 'Floor': floor, 'Roof': roof}, orient='index')\n"
   ]
  },
  {
   "cell_type": "markdown",
   "id": "a4d161fc",
   "metadata": {},
   "source": [
    "\n",
    "## Define Radiative and Convective Properties\n",
    "\n",
    "We set radiative emissivities and convective heat transfer coefficients used in the heat balance equations.\n"
   ]
  },
  {
   "cell_type": "code",
   "execution_count": null,
   "id": "1dccb38e",
   "metadata": {},
   "outputs": [],
   "source": [
    "\n",
    "ε_wLW, ε_gLW = 0.85, 0.90\n",
    "σ = 5.67e-8\n",
    "hi, ho = 8., 25.\n",
    "λ_c, w_c = concrete['Conductivity'], concrete['Width']\n",
    "λ_i, w_i = insulation['Conductivity'], insulation['Width']\n",
    "λ_g, w_g = glass['Conductivity'], glass['Width']\n",
    "λ_f, w_f = floor['Conductivity'], floor['Width']\n",
    "λ_r, w_r = roof['Conductivity'], roof['Width']\n",
    "S1, S2, S3 = S_wall1, S_wall2, S_wall1\n",
    "S_floor = floor['Surface']\n",
    "S_roof = roof['Surface']\n",
    "S_door = S1 - S2\n",
    "λ_door = 0.22\n",
    "w_door = 0.04\n",
    "S_wind = glass['Surface']\n",
    "\n",
    "τ_gSW = 0.30\n"
   ]
  },
  {
   "cell_type": "markdown",
   "id": "3bd83593",
   "metadata": {},
   "source": [
    "\n",
    "## Compute Solar Radiation on Tilted Surfaces\n",
    "\n",
    "This section computes total solar radiation on surfaces using orientation parameters from a CSV file.\n"
   ]
  },
  {
   "cell_type": "code",
   "execution_count": null,
   "id": "615b4c30",
   "metadata": {},
   "outputs": [],
   "source": [
    "\n",
    "wall_out = pd.read_csv('./BLDG/walls_out.csv')\n",
    "w1 = wall_out[wall_out['ID'] == 'w0']\n",
    "surface_orientation = {'slope': w1['β'].values[0], 'azimuth': w1['γ'].values[0], 'latitude': 45}\n",
    "\n",
    "rad_surf = dm4bem.sol_rad_tilt_surf(weather, surface_orientation, w1['albedo'].values[0])\n",
    "Etot = rad_surf.sum(axis=1)\n",
    "\n",
    "Φ0 = alphawindow * S1 * Etot  \n",
    "Φ1 = alphawout * S1 * Etot \n",
    "Φ2 = alphafloor * S_roof * Etot    \n",
    "Φ3 = alpharoof * S_roof * Etot\n"
   ]
  },
  {
   "cell_type": "markdown",
   "id": "56a530f1",
   "metadata": {},
   "source": [
    "\n",
    "## Define Temperature Setpoint Profile\n",
    "\n",
    "This section defines the indoor temperature setpoint profile for a typical daily cycle, with a higher setpoint during the day and a lower one at night.\n"
   ]
  },
  {
   "cell_type": "code",
   "execution_count": null,
   "id": "4b9627c1",
   "metadata": {},
   "outputs": [],
   "source": [
    "\n",
    "Ti_day, Ti_night = 20, 16\n",
    "Ti = pd.Series([Ti_day if 6 <= hour <= 22 else Ti_night for hour in To.index.hour], index=To.index)\n"
   ]
  },
  {
   "cell_type": "markdown",
   "id": "4f36025d",
   "metadata": {},
   "source": [
    "\n",
    "## Assemble Weather-Based Input Dataset\n",
    "\n",
    "We compile all weather-based and solar inputs into a single DataFrame and save it to CSV for later reuse.\n"
   ]
  },
  {
   "cell_type": "code",
   "execution_count": null,
   "id": "993a166b",
   "metadata": {},
   "outputs": [],
   "source": [
    "\n",
    "input_data_set = pd.DataFrame({'To': To, 'Ti': Ti, 'Φ0': Φ0, 'Φ1': Φ1, 'Φ2': Φ2, 'Φ3': Φ3, 'Etot': Etot})\n",
    "input_data_set.to_csv('./model/input_data_set.csv')\n"
   ]
  },
  {
   "cell_type": "markdown",
   "id": "56a62926",
   "metadata": {},
   "source": [
    "\n",
    "## Plot Final Simulation Results\n",
    "\n",
    "This section extracts and plots indoor and outdoor temperatures, ensuring the datetime index is timezone-naive for compatibility.\n"
   ]
  },
  {
   "cell_type": "code",
   "execution_count": null,
   "id": "ecdaa489",
   "metadata": {},
   "outputs": [],
   "source": [
    "\n",
    "y = (Cs @ θ_exp.T + Ds @ u.T).T\n",
    "input_data_set.index = input_data_set.index.tz_localize(None)\n",
    "\n",
    "data = pd.DataFrame({\n",
    "    'To': input_data_set['To'],\n",
    "    'θi': y['θ2']\n",
    "})\n",
    "\n",
    "data.index = data.index.tz_localize(None)\n",
    "\n",
    "fig, axs = plt.subplots(1, 1)\n",
    "data[['To', 'θi']].plot(ax=axs, xticks=[], ylabel='Temperature, $θ$ / °C')\n",
    "axs.legend(['$θ_{outdoor}$', '$θ_{indoor}$'], loc='upper right')\n",
    "axs.set_title(f'Time step: $dt$ = {dt:.0f} s; $dt_{{max}}$ = {Δtmax:.0f} s')\n",
    "plt.show()\n"
   ]
  }
 ],
 "metadata": {},
 "nbformat": 4,
 "nbformat_minor": 5
}
